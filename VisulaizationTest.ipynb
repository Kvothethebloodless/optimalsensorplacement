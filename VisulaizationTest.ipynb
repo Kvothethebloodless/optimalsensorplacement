{
 "metadata": {
  "name": ""
 },
 "nbformat": 3,
 "nbformat_minor": 0,
 "worksheets": [
  {
   "cells": [
    {
     "cell_type": "code",
     "collapsed": false,
     "input": [
      "import Image, ImageDraw\n",
      "import numpy as np\n",
      "import pdb"
     ],
     "language": "python",
     "metadata": {},
     "outputs": [],
     "prompt_number": 47
    },
    {
     "cell_type": "code",
     "collapsed": false,
     "input": [
      "im = Image.open('simulationdata/textflipped.jpeg')"
     ],
     "language": "python",
     "metadata": {},
     "outputs": [],
     "prompt_number": 48
    },
    {
     "cell_type": "code",
     "collapsed": false,
     "input": [
      "draw = ImageDraw.Draw(im)"
     ],
     "language": "python",
     "metadata": {},
     "outputs": [],
     "prompt_number": 49
    },
    {
     "cell_type": "code",
     "collapsed": false,
     "input": [
      "points = np.random.randint(0,1000,(100,2))"
     ],
     "language": "python",
     "metadata": {},
     "outputs": [],
     "prompt_number": 50
    },
    {
     "cell_type": "code",
     "collapsed": false,
     "input": [
      "def drawpoints(drawobj,points):\n",
      "    size = 1 #square size is 3*2+1 = 7 units\n",
      "    #points needs to be list of tuples\n",
      "#     pdb.set_trace()\n",
      "    points_topleft = [tuple(point-[size,size]) for point in points]\n",
      "    points_topright = [tuple(point-[size,-size]) for point in points]\n",
      "    points_bottomleft = [tuple(point+[size,-size]) for point in points]\n",
      "    points_bottomright = [tuple(point+[size,size]) for point in points]\n",
      "    for i in range(len(points)):\n",
      "#         print(i)\n",
      "        drawobj.polygon([points_topleft[i],points_bottomleft[i],points_bottomright[i],points_topright[i]],fill=\"red\", outline=\"red\")\n",
      "    im.save('drawtest.jpeg')    \n",
      "    del drawobj\n",
      "    "
     ],
     "language": "python",
     "metadata": {},
     "outputs": [],
     "prompt_number": 61
    },
    {
     "cell_type": "code",
     "collapsed": false,
     "input": [
      "draw = ImageDraw.Draw(im)\n"
     ],
     "language": "python",
     "metadata": {},
     "outputs": [],
     "prompt_number": 62
    },
    {
     "cell_type": "code",
     "collapsed": false,
     "input": [
      "drawpoints(draw,points)"
     ],
     "language": "python",
     "metadata": {},
     "outputs": [],
     "prompt_number": 63
    },
    {
     "cell_type": "code",
     "collapsed": false,
     "input": [],
     "language": "python",
     "metadata": {},
     "outputs": []
    }
   ],
   "metadata": {}
  }
 ]
}