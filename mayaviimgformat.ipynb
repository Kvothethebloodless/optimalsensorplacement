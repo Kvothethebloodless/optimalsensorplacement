{
 "metadata": {
  "name": ""
 },
 "nbformat": 3,
 "nbformat_minor": 0,
 "worksheets": [
  {
   "cells": [
    {
     "cell_type": "code",
     "collapsed": false,
     "input": [
      "#test#\n"
     ],
     "language": "python",
     "metadata": {},
     "outputs": [],
     "prompt_number": 1
    },
    {
     "cell_type": "code",
     "collapsed": false,
     "input": [
      "he LAT, LON are in a confusing manner.\n",
      "\n",
      "First, the geographical arrangement considering, LOW as smallest\n",
      "latitude/longitude and HIGH as largest latitude/longitude. \n",
      "\n",
      "HIGH,LOW ---------------- HIGH, HIGH\n",
      "    |                         |\n",
      "    |                         |\n",
      "    |                         |\n",
      "    |                         |\n",
      "    |                         |\n",
      "    |                         |\n",
      "    |                         |\n",
      "LOW, LOW ---------------- LOW,HIGH\n",
      "\n",
      "\n",
      "The data given in the original .mat file is ambigious.\n",
      "\n",
      "  N\n",
      "W--E\n",
      "  S\n",
      "\n",
      "\n",
      "--------------4.6KM----------------\n",
      "|\n",
      "|\n",
      "2KM\n",
      "|\n",
      "|\n",
      "-----------------------------------\n",
      "\n",
      "Look into attached images for explanation. \n",
      "\n",
      "\n",
      "\n",
      "So, after a lot of tweaking and correcting around, I've finally come up with an understandble format. If numpy arrays represnet a matrix like this,\n",
      "\n",
      "(0,0)------------------(0,10)\t\t\t\t\t\t\t\n",
      "\n",
      "\n",
      "\n",
      "\n",
      "(10,0)                (10,10)\n",
      "\n",
      "In the matrix 'corrected_terrain_mt.npy', the representation is as follows. Assuming the same, global NEWS as above,\n",
      "\n",
      "Z is also arranged in the exact same way. If you imshow(z), you wil get the elevation map exactly corresponding to the way it is depectied above.\n",
      "\n",
      "The true LAT, LONG cords look somewhat like this."
     ],
     "language": "python",
     "metadata": {},
     "outputs": []
    },
    {
     "cell_type": "markdown",
     "metadata": {},
     "source": [
      "<img src=\"/home/manish/PycharmProjects/Optimal Sensor Location/simulationdata/correct_latlong_descr.png\">"
     ]
    },
    {
     "cell_type": "code",
     "collapsed": false,
     "input": [
      "import cv2\n",
      "import numpy as np\n",
      "import matplotlib.pyplot as plt\n",
      "from scipy.misc import imrotate as imr\n",
      "def converttomayavi(filename):\n",
      "    #MAYAVI seems to rotate 90 by counterclockwise and then flipleftright. So we do the opposite. We, flipleftright and ro\n",
      "    #tate 90 by clockwise. \n",
      "    a = cv2.imread(filename)\n",
      "    plt.imshow(a)\n",
      "    plt.show()\n",
      "#     r = a[:,:,0]\n",
      "#     g = a[:,:,1]\n",
      "#     b = a[:,:,2]\n",
      "#     rnew = np.fliplr(r.T)\n",
      "#     gnew = np.fliplr(g.T)\n",
      "#     bnew = np.fliplr(b.T)\n",
      "#     newimg = np.hstack((rnew.\n",
      "#     re = np.vstack((rnew.reshape(-1),gnew.reshape(-1), bnew.reshape(-1)))\n",
      "#     newimg = re.T.reshape((1024,1024,3)) \n",
      "    newimg = cv2.flip(a,1)\n",
      "    plt.imshow(newimg)\n",
      "    plt.show()\n",
      "    plt.figure()\n",
      "    newimg = imr(newimg,-90) #Clockwise rotation.\n",
      "    plt.imshow(newimg)\n",
      "    plt.show()\n",
      "    cv2.imwrite('simulationdata/textflipped.jpeg',newimg)"
     ],
     "language": "python",
     "metadata": {},
     "outputs": [],
     "prompt_number": 59
    },
    {
     "cell_type": "code",
     "collapsed": false,
     "input": [
      "def scale(array,maxval, minval):\n",
      "    array = array.astype('float32')\n",
      "    maxval = float(maxval)\n",
      "    minval = float(minval)\n",
      "    array2 = array-array.min()\n",
      "    array2 /= array2.max()\n",
      "    print array2.max()\n",
      "    array2 *= (maxval-minval)\n",
      "    return array2+minval"
     ],
     "language": "python",
     "metadata": {},
     "outputs": [],
     "prompt_number": 77
    },
    {
     "cell_type": "code",
     "collapsed": false,
     "input": [],
     "language": "python",
     "metadata": {},
     "outputs": []
    },
    {
     "cell_type": "code",
     "collapsed": false,
     "input": [
      "a = np.random.randint(3,20,(3,4))\n",
      "a3 = scale(a,8,4)"
     ],
     "language": "python",
     "metadata": {},
     "outputs": [
      {
       "output_type": "stream",
       "stream": "stdout",
       "text": [
        "1.0\n"
       ]
      }
     ],
     "prompt_number": 82
    },
    {
     "cell_type": "code",
     "collapsed": false,
     "input": [],
     "language": "python",
     "metadata": {},
     "outputs": []
    },
    {
     "cell_type": "code",
     "collapsed": false,
     "input": [
      "a3.shape\n",
      "a3.max()\n",
      "a3.min()"
     ],
     "language": "python",
     "metadata": {},
     "outputs": [
      {
       "metadata": {},
       "output_type": "pyout",
       "prompt_number": 83,
       "text": [
        "4.0"
       ]
      }
     ],
     "prompt_number": 83
    },
    {
     "cell_type": "code",
     "collapsed": false,
     "input": [],
     "language": "python",
     "metadata": {},
     "outputs": []
    },
    {
     "cell_type": "code",
     "collapsed": false,
     "input": [
      "a3.min()"
     ],
     "language": "python",
     "metadata": {},
     "outputs": [
      {
       "metadata": {},
       "output_type": "pyout",
       "prompt_number": 84,
       "text": [
        "4.0"
       ]
      }
     ],
     "prompt_number": 84
    },
    {
     "cell_type": "code",
     "collapsed": false,
     "input": [],
     "language": "python",
     "metadata": {},
     "outputs": []
    },
    {
     "cell_type": "code",
     "collapsed": false,
     "input": [
      "print(a3.max())"
     ],
     "language": "python",
     "metadata": {},
     "outputs": [
      {
       "output_type": "stream",
       "stream": "stdout",
       "text": [
        "8.0\n"
       ]
      }
     ],
     "prompt_number": 85
    },
    {
     "cell_type": "code",
     "collapsed": false,
     "input": [],
     "language": "python",
     "metadata": {},
     "outputs": []
    },
    {
     "cell_type": "code",
     "collapsed": false,
     "input": [
      "converttomayavi('simulationdata/texture2.png')"
     ],
     "language": "python",
     "metadata": {},
     "outputs": [],
     "prompt_number": 61
    },
    {
     "cell_type": "code",
     "collapsed": false,
     "input": [
      "plt.imshow(cv2.flip(cv2.imread('simulationdata/texture2.png'),1))\n",
      "plt.show()"
     ],
     "language": "python",
     "metadata": {},
     "outputs": [],
     "prompt_number": 55
    },
    {
     "cell_type": "code",
     "collapsed": false,
     "input": [
      "import numpy as np\n",
      "import cv2\n"
     ],
     "language": "python",
     "metadata": {},
     "outputs": [],
     "prompt_number": 1
    },
    {
     "cell_type": "code",
     "collapsed": false,
     "input": [
      "a = cv2.imread('simulationdata/texture2.jpeg')\n",
      "a.shape"
     ],
     "language": "python",
     "metadata": {},
     "outputs": [
      {
       "metadata": {},
       "output_type": "pyout",
       "prompt_number": 2,
       "text": [
        "(1024, 1024, 3)"
       ]
      }
     ],
     "prompt_number": 2
    },
    {
     "cell_type": "code",
     "collapsed": false,
     "input": [
      "r,g,b = a[:,:,0],a[:,:,1],a[:,:,2]\n"
     ],
     "language": "python",
     "metadata": {},
     "outputs": [],
     "prompt_number": 3
    },
    {
     "cell_type": "code",
     "collapsed": false,
     "input": [
      "r\n"
     ],
     "language": "python",
     "metadata": {},
     "outputs": [
      {
       "metadata": {},
       "output_type": "pyout",
       "prompt_number": 4,
       "text": [
        "array([[71, 82, 65, ..., 75, 69, 72],\n",
        "       [56, 70, 67, ..., 67, 68, 61],\n",
        "       [67, 74, 75, ..., 66, 73, 70],\n",
        "       ..., \n",
        "       [66, 76, 64, ..., 68, 64, 69],\n",
        "       [75, 66, 62, ..., 71, 63, 68],\n",
        "       [83, 63, 71, ..., 71, 68, 79]], dtype=uint8)"
       ]
      }
     ],
     "prompt_number": 4
    },
    {
     "cell_type": "code",
     "collapsed": false,
     "input": [
      "ce = np.hstack((r,g,b))\n"
     ],
     "language": "python",
     "metadata": {},
     "outputs": [],
     "prompt_number": 5
    },
    {
     "cell_type": "code",
     "collapsed": false,
     "input": [
      "ce"
     ],
     "language": "python",
     "metadata": {},
     "outputs": [
      {
       "metadata": {},
       "output_type": "pyout",
       "prompt_number": 6,
       "text": [
        "array([[ 71,  82,  65, ..., 255, 255, 250],\n",
        "       [ 56,  70,  67, ..., 255, 255, 250],\n",
        "       [ 67,  74,  75, ..., 248, 250, 255],\n",
        "       ..., \n",
        "       [ 66,  76,  64, ..., 249, 245, 255],\n",
        "       [ 75,  66,  62, ..., 249, 247, 255],\n",
        "       [ 83,  63,  71, ..., 246, 253, 255]], dtype=uint8)"
       ]
      }
     ],
     "prompt_number": 6
    },
    {
     "cell_type": "code",
     "collapsed": false,
     "input": [
      "ce.shape"
     ],
     "language": "python",
     "metadata": {},
     "outputs": [
      {
       "metadata": {},
       "output_type": "pyout",
       "prompt_number": 7,
       "text": [
        "(1024, 3072)"
       ]
      }
     ],
     "prompt_number": 7
    },
    {
     "cell_type": "code",
     "collapsed": false,
     "input": [
      "ce.reshape((1024,1024,3))\n",
      "np.all(ce==a)"
     ],
     "language": "python",
     "metadata": {},
     "outputs": [
      {
       "metadata": {},
       "output_type": "pyout",
       "prompt_number": 8,
       "text": [
        "False"
       ]
      }
     ],
     "prompt_number": 8
    },
    {
     "cell_type": "code",
     "collapsed": false,
     "input": [
      "ce\n"
     ],
     "language": "python",
     "metadata": {},
     "outputs": [
      {
       "metadata": {},
       "output_type": "pyout",
       "prompt_number": 9,
       "text": [
        "array([[ 71,  82,  65, ..., 255, 255, 250],\n",
        "       [ 56,  70,  67, ..., 255, 255, 250],\n",
        "       [ 67,  74,  75, ..., 248, 250, 255],\n",
        "       ..., \n",
        "       [ 66,  76,  64, ..., 249, 245, 255],\n",
        "       [ 75,  66,  62, ..., 249, 247, 255],\n",
        "       [ 83,  63,  71, ..., 246, 253, 255]], dtype=uint8)"
       ]
      }
     ],
     "prompt_number": 9
    },
    {
     "cell_type": "code",
     "collapsed": false,
     "input": [
      "ce.shape\n"
     ],
     "language": "python",
     "metadata": {},
     "outputs": [
      {
       "metadata": {},
       "output_type": "pyout",
       "prompt_number": 10,
       "text": [
        "(1024, 3072)"
       ]
      }
     ],
     "prompt_number": 10
    },
    {
     "cell_type": "code",
     "collapsed": false,
     "input": [
      "ce = ce.reshape((1024,1024,3))"
     ],
     "language": "python",
     "metadata": {},
     "outputs": [],
     "prompt_number": 11
    },
    {
     "cell_type": "code",
     "collapsed": false,
     "input": [
      "ce\n"
     ],
     "language": "python",
     "metadata": {},
     "outputs": [
      {
       "metadata": {},
       "output_type": "pyout",
       "prompt_number": 12,
       "text": [
        "array([[[ 71,  82,  65],\n",
        "        [ 80,  81,  60],\n",
        "        [ 58,  75,  68],\n",
        "        ..., \n",
        "        [ 85, 131, 206],\n",
        "        [250, 254, 249],\n",
        "        [255, 255, 250]],\n",
        "\n",
        "       [[ 56,  70,  67],\n",
        "        [ 79,  71,  65],\n",
        "        [ 68,  74,  81],\n",
        "        ..., \n",
        "        [ 88, 107, 185],\n",
        "        [217, 255, 255],\n",
        "        [255, 255, 250]],\n",
        "\n",
        "       [[ 67,  74,  75],\n",
        "        [ 73,  61,  69],\n",
        "        [ 73,  67,  74],\n",
        "        ..., \n",
        "        [ 91,  79, 136],\n",
        "        [161, 236, 249],\n",
        "        [248, 250, 255]],\n",
        "\n",
        "       ..., \n",
        "       [[ 66,  76,  64],\n",
        "        [ 69,  71,  73],\n",
        "        [ 82,  78,  97],\n",
        "        ..., \n",
        "        [242, 255, 255],\n",
        "        [255, 255, 255],\n",
        "        [249, 245, 255]],\n",
        "\n",
        "       [[ 75,  66,  62],\n",
        "        [ 67,  79,  77],\n",
        "        [ 80,  87, 102],\n",
        "        ..., \n",
        "        [220, 252, 250],\n",
        "        [250, 255, 255],\n",
        "        [249, 247, 255]],\n",
        "\n",
        "       [[ 83,  63,  71],\n",
        "        [ 71,  81,  79],\n",
        "        [ 81, 106, 111],\n",
        "        ..., \n",
        "        [199, 235, 248],\n",
        "        [255, 255, 246],\n",
        "        [246, 253, 255]]], dtype=uint8)"
       ]
      }
     ],
     "prompt_number": 12
    },
    {
     "cell_type": "code",
     "collapsed": false,
     "input": [
      "np.all(ce==a)"
     ],
     "language": "python",
     "metadata": {},
     "outputs": [
      {
       "metadata": {},
       "output_type": "pyout",
       "prompt_number": 13,
       "text": [
        "False"
       ]
      }
     ],
     "prompt_number": 13
    },
    {
     "cell_type": "code",
     "collapsed": false,
     "input": [
      "re = np.vstack((r.reshape(-1),g.reshape(-1), b.reshape(-1)))"
     ],
     "language": "python",
     "metadata": {},
     "outputs": [],
     "prompt_number": 16
    },
    {
     "cell_type": "code",
     "collapsed": false,
     "input": [
      "re.shape\n",
      "re.T.reshape((1024,1024,3))"
     ],
     "language": "python",
     "metadata": {},
     "outputs": [
      {
       "metadata": {},
       "output_type": "pyout",
       "prompt_number": 19,
       "text": [
        "array([[[ 71, 242, 255],\n",
        "        [ 82, 225, 253],\n",
        "        [ 65, 139, 203],\n",
        "        ..., \n",
        "        [ 75, 230, 255],\n",
        "        [ 69, 233, 255],\n",
        "        [ 72, 244, 250]],\n",
        "\n",
        "       [[ 56, 233, 246],\n",
        "        [ 70, 226, 255],\n",
        "        [ 67, 183, 224],\n",
        "        ..., \n",
        "        [ 67, 237, 255],\n",
        "        [ 68, 241, 255],\n",
        "        [ 61, 234, 250]],\n",
        "\n",
        "       [[ 67, 241, 253],\n",
        "        [ 74, 235, 255],\n",
        "        [ 75, 230, 246],\n",
        "        ..., \n",
        "        [ 66, 242, 248],\n",
        "        [ 73, 242, 250],\n",
        "        [ 70, 231, 255]],\n",
        "\n",
        "       ..., \n",
        "       [[ 66, 240, 255],\n",
        "        [ 76, 234, 247],\n",
        "        [ 64, 238, 254],\n",
        "        ..., \n",
        "        [ 68, 241, 249],\n",
        "        [ 64, 243, 245],\n",
        "        [ 69, 237, 255]],\n",
        "\n",
        "       [[ 75, 236, 255],\n",
        "        [ 66, 234, 245],\n",
        "        [ 62, 239, 254],\n",
        "        ..., \n",
        "        [ 71, 246, 249],\n",
        "        [ 63, 240, 247],\n",
        "        [ 68, 235, 255]],\n",
        "\n",
        "       [[ 83, 232, 255],\n",
        "        [ 63, 240, 255],\n",
        "        [ 71, 240, 255],\n",
        "        ..., \n",
        "        [ 71, 244, 246],\n",
        "        [ 68, 236, 253],\n",
        "        [ 79, 235, 255]]], dtype=uint8)"
       ]
      }
     ],
     "prompt_number": 19
    },
    {
     "cell_type": "code",
     "collapsed": false,
     "input": [
      "a"
     ],
     "language": "python",
     "metadata": {},
     "outputs": [
      {
       "metadata": {},
       "output_type": "pyout",
       "prompt_number": 20,
       "text": [
        "array([[[ 71, 242, 255],\n",
        "        [ 82, 225, 253],\n",
        "        [ 65, 139, 203],\n",
        "        ..., \n",
        "        [ 75, 230, 255],\n",
        "        [ 69, 233, 255],\n",
        "        [ 72, 244, 250]],\n",
        "\n",
        "       [[ 56, 233, 246],\n",
        "        [ 70, 226, 255],\n",
        "        [ 67, 183, 224],\n",
        "        ..., \n",
        "        [ 67, 237, 255],\n",
        "        [ 68, 241, 255],\n",
        "        [ 61, 234, 250]],\n",
        "\n",
        "       [[ 67, 241, 253],\n",
        "        [ 74, 235, 255],\n",
        "        [ 75, 230, 246],\n",
        "        ..., \n",
        "        [ 66, 242, 248],\n",
        "        [ 73, 242, 250],\n",
        "        [ 70, 231, 255]],\n",
        "\n",
        "       ..., \n",
        "       [[ 66, 240, 255],\n",
        "        [ 76, 234, 247],\n",
        "        [ 64, 238, 254],\n",
        "        ..., \n",
        "        [ 68, 241, 249],\n",
        "        [ 64, 243, 245],\n",
        "        [ 69, 237, 255]],\n",
        "\n",
        "       [[ 75, 236, 255],\n",
        "        [ 66, 234, 245],\n",
        "        [ 62, 239, 254],\n",
        "        ..., \n",
        "        [ 71, 246, 249],\n",
        "        [ 63, 240, 247],\n",
        "        [ 68, 235, 255]],\n",
        "\n",
        "       [[ 83, 232, 255],\n",
        "        [ 63, 240, 255],\n",
        "        [ 71, 240, 255],\n",
        "        ..., \n",
        "        [ 71, 244, 246],\n",
        "        [ 68, 236, 253],\n",
        "        [ 79, 235, 255]]], dtype=uint8)"
       ]
      }
     ],
     "prompt_number": 20
    },
    {
     "cell_type": "code",
     "collapsed": false,
     "input": [],
     "language": "python",
     "metadata": {},
     "outputs": []
    },
    {
     "cell_type": "code",
     "collapsed": false,
     "input": [
      "re.shape"
     ],
     "language": "python",
     "metadata": {},
     "outputs": [
      {
       "metadata": {},
       "output_type": "pyout",
       "prompt_number": 18,
       "text": [
        "(3, 1048576)"
       ]
      }
     ],
     "prompt_number": 18
    },
    {
     "cell_type": "code",
     "collapsed": false,
     "input": [],
     "language": "python",
     "metadata": {},
     "outputs": []
    }
   ],
   "metadata": {}
  }
 ]
}